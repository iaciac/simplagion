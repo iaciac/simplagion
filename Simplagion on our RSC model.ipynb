{
 "cells": [
  {
   "cell_type": "code",
   "execution_count": null,
   "metadata": {},
   "outputs": [],
   "source": [
    "import networkx as nx\n",
    "import numpy as np\n",
    "from scipy import random\n",
    "import copy\n",
    "import random\n",
    "from collections import OrderedDict\n",
    "import pickle\n",
    "import itertools\n",
    "from multiprocessing import Pool\n",
    "from utils_simplagion_on_RSC import *\n",
    "\n",
    "import matplotlib.pyplot as plt\n",
    "%matplotlib inline"
   ]
  },
  {
   "cell_type": "code",
   "execution_count": null,
   "metadata": {},
   "outputs": [],
   "source": [
    "#Simplicial complex parameters\n",
    "N = 2000                   \n",
    "k1 = 20\n",
    "k2 = 6\n",
    "\n",
    "p1, p2 = get_p1_and_p2(k1,k2,N)\n",
    "\n",
    "#Infection parameters\n",
    "mu = 0.05\n",
    "lambda1s = np.linspace(0.2,2.2,30)     \n",
    "lambdaD_target_list = [0,0.8,2.5,2.5]\n",
    "I_percentage_list = [1,1,1,40] #initial conditions (% of infected)\n",
    "\n",
    "#Simulation Parameters\n",
    "t_max = 6000                 \n",
    "n_simulations = 120\n",
    "n_processes = 8\n",
    "\n",
    "out_dir = 'Results/'"
   ]
  },
  {
   "cell_type": "code",
   "execution_count": null,
   "metadata": {},
   "outputs": [],
   "source": [
    "!mkdir ./Results"
   ]
  },
  {
   "cell_type": "code",
   "execution_count": null,
   "metadata": {
    "scrolled": true
   },
   "outputs": [],
   "source": [
    "iteration_numbers = range(n_simulations)\n",
    "\n",
    "for lambdaD_target, I_percentage in zip(lambdaD_target_list, I_percentage_list):\n",
    "    print('lambdaD', lambdaD_target, 'seed', I_percentage)\n",
    "\n",
    "    ################################ Preparing arguments for the parallel processing\n",
    "    args=[]\n",
    "    for it_num in range(n_simulations):\n",
    "        args.append([it_num, N, p1, p2, lambda1s, lambdaD_target, I_percentage, t_max, mu])\n",
    "\n",
    "    ################################ Running in parallel\n",
    "    pool = Pool(processes=n_processes)                         \n",
    "    results = pool.map(run_one_simulation, args)\n",
    "    \n",
    "    ################################ Saving\n",
    "    filename = 'result_RSC_'+'N'+str(N)+'_k'+str(k1)+'_kD'+str(k2)+'_mu'+str(mu)+'_lD'+str(lambdaD_target)+'_seed'+str(I_percentage)+'.p'\n",
    "    pickle.dump(results, open(out_dir+filename, \"wb\" ))"
   ]
  },
  {
   "cell_type": "markdown",
   "metadata": {},
   "source": [
    "## Plotting"
   ]
  },
  {
   "cell_type": "code",
   "execution_count": null,
   "metadata": {},
   "outputs": [],
   "source": [
    "N = 2000     \n",
    "k1 = 20\n",
    "k2 = 6\n",
    "cut = True\n",
    "lambda1s = np.linspace(0.2,2.2,30)     \n",
    "lambdaD_target_list = [2.5,2.5,0.8,0]\n",
    "I_percentage_list = [40,1,1,1] #initial conditions (% of infected)\n",
    "mu = 0.05\n",
    "out_dir = 'Results/'\n",
    "\n",
    "############################# Preparing MF\n",
    "MF_x=np.linspace(0.2,2.2,200)\n",
    "\n",
    "MF_y_dict = {}\n",
    "\n",
    "for i, (lambdaD_target, I_percentage) in enumerate(zip(lambdaD_target_list, I_percentage_list)):\n",
    "    \n",
    "    if i != 1:\n",
    "        filename = 'result_RSC_'+'N'+str(N)+'_k'+str(k1)+'_kD'+str(k2)+'_mu'+str(mu)+'_lD'+str(lambdaD_target)+'_seed'+str(I_percentage)+'.p'\n",
    "        results = pickle.load(open(out_dir+filename, \"rb\" ))\n",
    "        _, avg_k, avg_kD = parse_results(results, cut=cut)\n",
    "\n",
    "        beta2 = (mu*lambdaD_target)/k2\n",
    "        real_lambdaD = 1.*(beta2*avg_kD)/mu\n",
    "        \n",
    "        #fixing for lD=0:\n",
    "        if real_lambdaD==0: real_lambdaD = 0.0000001\n",
    "\n",
    "        MF_y = list(map(lambda xx: get_rho_MF(xx, real_lambdaD), MF_x))\n",
    "        MF_y_dict[i] = MF_y"
   ]
  },
  {
   "cell_type": "code",
   "execution_count": null,
   "metadata": {},
   "outputs": [],
   "source": [
    "fig = plt.figure(figsize=(4.5,3));\n",
    "plt.rcParams['xtick.major.width'] = 1.2\n",
    "plt.rcParams['ytick.major.width'] = 1.2\n",
    "plt.rcParams['axes.linewidth'] = 1.2\n",
    "\n",
    "markers = ['o','o','s','o']\n",
    "zorders = [8,7,6,5]\n",
    "mfcs = ['white', 'white', 'white', 'cornflowerblue']\n",
    "lables = [r'$\\lambda_\\Delta=2.5$','',r'$\\lambda_\\Delta=0.8$', r'$\\lambda_\\Delta=0$']\n",
    "markersizes = [7.5,7.5,7,6]\n",
    "\n",
    "ax = plt.subplot(111)\n",
    "\n",
    "for i, (lambdaD_target, I_percentage) in enumerate(zip(lambdaD_target_list, I_percentage_list)):\n",
    "    filename = 'result_RSC_'+'N'+str(N)+'_k'+str(k1)+'_kD'+str(k2)+'_mu'+str(mu)+'_lD'+str(lambdaD_target)+'_seed'+str(I_percentage)+'.p'\n",
    "    results = pickle.load(open(out_dir+filename, \"rb\" ))\n",
    "    avg_rhos, avg_k, avg_kD = parse_results(results, cut=cut)\n",
    "    \n",
    "    ax.plot(lambda1s, avg_rhos, markers[i], color='black', zorder=zorders[i],\n",
    "            mfc=mfcs[i], markersize=markersizes[i], label=lables[i])\n",
    "\n",
    "    if i != 1:\n",
    "        ax.plot(MF_x, MF_y_dict[i], '-', markersize=2, color=u'#ff7f0e')\n",
    "\n",
    "ax.tick_params(axis='both', which='major', labelsize=16)\n",
    "ax.set_xlabel(r'Rescaled infectivity, $\\lambda$', size=16)\n",
    "ax.set_ylabel(r'Density of infected nodes, $\\rho^{*}$', size=16)\n",
    "ax.set_xlim(0.2,2.2)\n",
    "ax.set_ylim(-0.01,0.8);\n",
    "ax.set_yticks([0,0.2,0.4,0.6,0.8]);\n",
    "\n",
    "lgd = ax.legend(fontsize=13, handlelength=1, handletextpad=0.3, borderaxespad=0.2,\n",
    "                loc='lower right', labelspacing=0.2, borderpad=0.4)  \n",
    "ax.add_artist(lgd)\n",
    "\n",
    "h = plt.plot([],[],'-', color=u'#ff7f0e', markersize=2, label='MF')\n",
    "lgd = plt.legend(handles=h, loc=(0.02,0.82), frameon=False, fontsize=14, handlelength=1, borderpad=0.1)\n",
    "ax.add_artist(lgd)\n",
    "\n",
    "ax.annotate('SIS', (2,0.38), fontsize=13)\n",
    "\n",
    "plt.tight_layout()\n"
   ]
  },
  {
   "cell_type": "code",
   "execution_count": null,
   "metadata": {},
   "outputs": [],
   "source": []
  }
 ],
 "metadata": {
  "kernelspec": {
   "display_name": "Python 3",
   "language": "python",
   "name": "python3"
  },
  "language_info": {
   "codemirror_mode": {
    "name": "ipython",
    "version": 3
   },
   "file_extension": ".py",
   "mimetype": "text/x-python",
   "name": "python",
   "nbconvert_exporter": "python",
   "pygments_lexer": "ipython3",
   "version": "3.8.5"
  }
 },
 "nbformat": 4,
 "nbformat_minor": 2
}
