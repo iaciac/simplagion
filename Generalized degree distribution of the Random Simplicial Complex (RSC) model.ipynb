{
 "cells": [
  {
   "cell_type": "code",
   "execution_count": 1,
   "metadata": {
    "collapsed": true
   },
   "outputs": [],
   "source": [
    "import networkx as nx\n",
    "import numpy as np\n",
    "from scipy import random\n",
    "import pandas as pd\n",
    "import copy\n",
    "import random\n",
    "from collections import OrderedDict, Counter\n",
    "from multiprocessing import Pool\n",
    "import itertools\n",
    "\n",
    "import matplotlib.pyplot as plt\n",
    "%matplotlib inline"
   ]
  },
  {
   "cell_type": "code",
   "execution_count": 23,
   "metadata": {
    "collapsed": true
   },
   "outputs": [],
   "source": [
    "def generate_my_simplicial_complex_d2(N,p1,p2):\n",
    "    \n",
    "    \"\"\"Our model\"\"\"\n",
    "    \n",
    "    #I first generate a standard ER graph with edges connected with probability p1\n",
    "    G = nx.fast_gnp_random_graph(N, p1, seed=None)\n",
    "    \n",
    "    if not nx.is_connected(G):\n",
    "        giant = list(nx.connected_components(G))[0]\n",
    "        G = nx.subgraph(G, giant)\n",
    "        print('not connected, but GC has order %i ans size %i'%(len(giant), G.size())) \n",
    "\n",
    "    triangles_list = []\n",
    "    G_copy = G.copy()\n",
    "    \n",
    "    #Now I run over all the possible combinations of three elements:\n",
    "    for tri in combinations(list(G.nodes()),3):\n",
    "        #And I create the triangle with probability p2\n",
    "        if random.random() <= p2:\n",
    "            #I close the triangle.\n",
    "            triangles_list.append(tri)\n",
    "            \n",
    "            #Now I also need to add the new links to the graph created by the triangle\n",
    "            G_copy.add_edge(tri[0], tri[1])\n",
    "            G_copy.add_edge(tri[1], tri[2])\n",
    "            G_copy.add_edge(tri[0], tri[2])\n",
    "            \n",
    "    G = G_copy\n",
    "             \n",
    "    #Creating a dictionary of neighbors\n",
    "    node_neighbors_dict = {}\n",
    "    for n in list(G.nodes()):\n",
    "        node_neighbors_dict[n] = G[n].keys()           \n",
    "                \n",
    "    #print len(triangles_list), 'triangles created. Size now is', G.size()\n",
    "        \n",
    "    #avg_n_triangles = 3.*len(triangles_list)/G.order()\n",
    "    \n",
    "    #return node_neighbors_dict, node_triangles_dict, avg_n_triangles\n",
    "    #return node_neighbors_dict, triangles_list, avg_n_triangles\n",
    "    return node_neighbors_dict, triangles_list"
   ]
  },
  {
   "cell_type": "code",
   "execution_count": 20,
   "metadata": {
    "collapsed": true
   },
   "outputs": [],
   "source": [
    "def get_p1_and_p2_correction(k1,k2,N):\n",
    "    p2 = (2.*k2)/((N-1.)*(N-2.))\n",
    "    p1 = (k1 - 2.*k2)/((N-1.)- 2.*k2)\n",
    "    if (p1>=0) and (p2>=0):\n",
    "        return p1, p2\n",
    "    else:\n",
    "        raise ValueError('Negative probability!')\n",
    "        \n",
    "def one_realization(ii):\n",
    "    print('ITERATION %i'%ii)\n",
    "    \n",
    "    #Generating a simplicial complex with the given parameters\n",
    "    node_neighbors_dict, triangles_list = generate_my_simplicial_complex_d2(N,p1,p2)\n",
    "\n",
    "    return node_neighbors_dict, triangles_list\n",
    "    \n",
    "def parse_results(results):\n",
    "    \n",
    "    degree_list = []\n",
    "    tri_degree_list = []\n",
    "    \n",
    "    for res in results:\n",
    "        node_neighbors_dict, triangles_list = res\n",
    "        \n",
    "        #Adding the degree sequence of this realization to the global list\n",
    "        degree_list += [len(neighs) for neighs in node_neighbors_dict.itervalues()]\n",
    "    \n",
    "        #creating a triangles degree sequence and adding it to the global list\n",
    "        vertex_in_a_triangle = []\n",
    "        for tri in triangles_list:\n",
    "            vertex_in_a_triangle += tri\n",
    "            \n",
    "        tri_degree_list += Counter(vertex_in_a_triangle).values()\n",
    "\n",
    "    degree_counter = Counter(degree_list)\n",
    "    triangle_degree_counter = Counter(tri_degree_list)\n",
    "\n",
    "    return degree_counter, triangle_degree_counter"
   ]
  },
  {
   "cell_type": "markdown",
   "metadata": {},
   "source": [
    "Running in parallel"
   ]
  },
  {
   "cell_type": "code",
   "execution_count": null,
   "metadata": {},
   "outputs": [],
   "source": [
    "#Simplicial Complex\n",
    "N = 2000\n",
    "k1 = 20\n",
    "k2 = 6\n",
    "p1, p2 = get_p1_and_p2_correction(k1,k2,N)\n",
    "\n",
    "n_simulations = 80\n",
    "n_processes = 8\n",
    "\n",
    "#################################################\n",
    "\n",
    "iteration_numbers = range(n_simulations)\n",
    "\n",
    "pool = Pool(n_processes)                         \n",
    "results = pool.map(one_realization, iteration_numbers)\n",
    "degree_counter, triangle_degree_counter = parse_results(results)"
   ]
  },
  {
   "cell_type": "code",
   "execution_count": 19,
   "metadata": {},
   "outputs": [
    {
     "data": {
      "image/png": "[encoded data removed]",
      "text/plain": [
       "<matplotlib.figure.Figure at 0x7f20d39f7250>"
      ]
     },
     "metadata": {},
     "output_type": "display_data"
    }
   ],
   "source": [
    "fig = plt.figure(figsize=(4.5,3));\n",
    "plt.rcParams['xtick.major.width'] = 1.2\n",
    "plt.rcParams['ytick.major.width'] = 1.2\n",
    "plt.rcParams['axes.linewidth'] = 1.2\n",
    "\n",
    "ax = plt.subplot(111)\n",
    "\n",
    "norm_k1 = 1.*np.array(degree_counter.values())/sum(degree_counter.values())\n",
    "norm_k2 = 1.*np.array(triangle_degree_counter.values())/sum(triangle_degree_counter.values())\n",
    "\n",
    "#################### plot pdf\n",
    "ax.plot(degree_counter.keys(), norm_k1, 's-', label='$k_1$',\n",
    "        clip_on=True, mfc='white');\n",
    "ax.plot(triangle_degree_counter.keys(), norm_k2, 'o-', label='$k_2$',\n",
    "        clip_on=True, mfc='white');\n",
    "\n",
    "\n",
    "#################### real mean\n",
    "sum_of_numbers = sum(number*count for number, count in degree_counter.iteritems())\n",
    "count = sum(count for n, count in degree_counter.iteritems())\n",
    "mean_k1 = float(sum_of_numbers) / count\n",
    "\n",
    "sum_of_numbers = sum(number*count for number, count in triangle_degree_counter.iteritems())\n",
    "count = sum(count for n, count in triangle_degree_counter.iteritems())\n",
    "mean_k2 = float(sum_of_numbers) / count\n",
    "\n",
    "ax.vlines(mean_k1,0,0.2, linewidth=1.5, linestyles='--',\n",
    "          color=u'#1f77b4', label=r'$\\langle k_1 \\rangle$');\n",
    "ax.vlines(mean_k2,0,0.2, linewidth=1.5, linestyles='--',\n",
    "          color=u'#ff7f0e', label=r'$\\langle k_2 \\rangle$');\n",
    "\n",
    "#################### expected mean\n",
    "ax.vlines(k2,0,0.2, linewidth=1.5, linestyles='-', color='lightgray', zorder=1, label=r'$\\approx$');\n",
    "ax.vlines(k1,0,0.2, linewidth=1.5, linestyles='-', color='lightgray', zorder=1);\n",
    "\n",
    "ax.tick_params(axis='both', which='major', labelsize=16)\n",
    "ax.set_xlabel('Generalized degree, $k_\\omega$', size=18)\n",
    "ax.set_ylabel('$P(k_\\omega)$', size=18)\n",
    "\n",
    "ax.set_ylim(0,0.2);\n",
    "ax.set_xlim(0,40);\n",
    "\n",
    "plt.legend(fontsize=14, loc='upper right', handlelength=1, frameon=False, borderpad=0)\n",
    "\n",
    "plt.tight_layout()"
   ]
  },
  {
   "cell_type": "code",
   "execution_count": null,
   "metadata": {
    "collapsed": true
   },
   "outputs": [],
   "source": []
  }
 ],
 "metadata": {
  "kernelspec": {
   "display_name": "Python 3",
   "language": "python",
   "name": "python3"
  },
  "language_info": {
   "codemirror_mode": {
    "name": "ipython",
    "version": 3
   },
   "file_extension": ".py",
   "mimetype": "text/x-python",
   "name": "python",
   "nbconvert_exporter": "python",
   "pygments_lexer": "ipython3",
   "version": "3.8.5"
  }
 },
 "nbformat": 4,
 "nbformat_minor": 2
}
